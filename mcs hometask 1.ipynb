{
 "cells": [
  {
   "cell_type": "code",
   "execution_count": 1,
   "metadata": {},
   "outputs": [],
   "source": [
    "def cube(x):\n",
    "    return x ** 3 "
   ]
  },
  {
   "cell_type": "code",
   "execution_count": 2,
   "metadata": {},
   "outputs": [
    {
     "name": "stdout",
     "output_type": "stream",
     "text": [
      "1 задание сделано верно\n"
     ]
    }
   ],
   "source": [
    "assert(cube(15) == 3375)\n",
    "assert(cube(12) == 1728)\n",
    "assert(cube(22) == 10648)\n",
    "assert(cube(24) == 13824)\n",
    "assert(cube(22) == 10648)\n",
    "assert(cube(19) == 6859)\n",
    "assert(cube(4) == 64)\n",
    "assert(cube(17) == 4913)\n",
    "assert(cube(16) == 4096)\n",
    "assert(cube(25) == 15625)\n",
    "print(\"1 задание сделано верно\")"
   ]
  },
  {
   "cell_type": "code",
   "execution_count": 3,
   "metadata": {},
   "outputs": [],
   "source": [
    "def kelvin_to_celsius(temp):\n",
    "    return temp - 273"
   ]
  },
  {
   "cell_type": "code",
   "execution_count": 4,
   "metadata": {},
   "outputs": [
    {
     "name": "stdout",
     "output_type": "stream",
     "text": [
      "2 задание сделано верно\n"
     ]
    }
   ],
   "source": [
    "assert(kelvin_to_celsius(7) == -266)\n",
    "assert(kelvin_to_celsius(324) == 51)\n",
    "assert(kelvin_to_celsius(55) == -218)\n",
    "assert(kelvin_to_celsius(7) == -266)\n",
    "assert(kelvin_to_celsius(182) == -91)\n",
    "assert(kelvin_to_celsius(269) == -4)\n",
    "assert(kelvin_to_celsius(264) == -9)\n",
    "assert(kelvin_to_celsius(396) == 123)\n",
    "assert(kelvin_to_celsius(113) == -160)\n",
    "assert(kelvin_to_celsius(321) == 48)\n",
    "print(\"2 задание сделано верно\")"
   ]
  },
  {
   "cell_type": "code",
   "execution_count": 5,
   "metadata": {},
   "outputs": [],
   "source": [
    "def solve(a, b, c):\n",
    "    d = b ** 2 - (4 * a * c)\n",
    "    x1 = (- b + (d ** 0.5)) / (2 * a)\n",
    "    x2 = (- b - (d ** 0.5)) / (2 * a)\n",
    "    return x1, x2"
   ]
  },
  {
   "cell_type": "code",
   "execution_count": 6,
   "metadata": {},
   "outputs": [
    {
     "name": "stdout",
     "output_type": "stream",
     "text": [
      "3 задание сделано верно\n"
     ]
    }
   ],
   "source": [
    "assert(solve(1, 6, -7) == (1, -7) or solve(1, 6, -7) == (-7, 1))\n",
    "assert(solve(2, -22, -24) == (12, -1) or solve(2, -22, -24) == (-1, 12))\n",
    "assert(solve(1, -17, 30) == (15, 2) or solve(1, -17, 30) == (2, 15))\n",
    "assert(solve(3, 0, -27) == (3, -3) or solve(3, 0, -27) == (-3, 3))\n",
    "assert(solve(1, 25, -26) == (1, -26) or solve(1, 25, -26) == (-26, 1))\n",
    "assert(solve(2, 12, 10) == (-1, -5) or solve(2, 12, 10) == (-5, -1))\n",
    "assert(solve(2, -14, 12) == (6, 1) or solve(2, -14, 12) == (1, 6))\n",
    "assert(solve(5, -25, 20) == (4, 1) or solve(5, -25, 20) == (1, 4))\n",
    "assert(solve(1, -22, 0) == (22, 0) or solve(1, -22, 0) == (0, 22))\n",
    "assert(solve(2, 8, 0) == (0, -4) or solve(2, 8, 0) == (-4, 0))\n",
    "print(\"3 задание сделано верно\")"
   ]
  },
  {
   "cell_type": "code",
   "execution_count": null,
   "metadata": {},
   "outputs": [],
   "source": []
  },
  {
   "cell_type": "code",
   "execution_count": null,
   "metadata": {},
   "outputs": [],
   "source": []
  }
 ],
 "metadata": {
  "kernelspec": {
   "display_name": "Python 3",
   "language": "python",
   "name": "python3"
  },
  "language_info": {
   "codemirror_mode": {
    "name": "ipython",
    "version": 3
   },
   "file_extension": ".py",
   "mimetype": "text/x-python",
   "name": "python",
   "nbconvert_exporter": "python",
   "pygments_lexer": "ipython3",
   "version": "3.6.5"
  }
 },
 "nbformat": 4,
 "nbformat_minor": 2
}
