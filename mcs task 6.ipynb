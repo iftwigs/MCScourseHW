{
 "cells": [
  {
   "cell_type": "code",
   "execution_count": 1,
   "metadata": {},
   "outputs": [],
   "source": [
    "import math\n",
    "import turtle"
   ]
  },
  {
   "cell_type": "code",
   "execution_count": 2,
   "metadata": {},
   "outputs": [],
   "source": [
    "turtle.fd(100)"
   ]
  },
  {
   "cell_type": "code",
   "execution_count": 4,
   "metadata": {},
   "outputs": [],
   "source": [
    "class Point:\n",
    "    def __init__(self, x, y, color):\n",
    "        self.x = x\n",
    "        self.y = y\n",
    "        self.color = color\n",
    "\n",
    "    def distance_to_other(self, other_point):\n",
    "        dx = self.x - other_point.x\n",
    "        dy = self.y - other_point.y\n",
    "        return math.sqrt(dx ** 2 + dy ** 2)\n",
    "\n",
    "    def __str__(self):\n",
    "        return \"Point(%s, %s)\" % (self.x, self.y) "
   ]
  },
  {
   "cell_type": "code",
   "execution_count": 5,
   "metadata": {},
   "outputs": [
    {
     "name": "stdout",
     "output_type": "stream",
     "text": [
      "Point(0, 0)\n",
      "Нормально!\n"
     ]
    }
   ],
   "source": [
    "point = Point(0, 0, \"red\")\n",
    "other_point = Point(30, 40, \"black\")\n",
    "print(point)\n",
    "assert(point.distance_to_other(other_point) == 50)\n",
    "print(\"Нормально!\")"
   ]
  },
  {
   "cell_type": "code",
   "execution_count": 1,
   "metadata": {},
   "outputs": [],
   "source": [
    "class Drawer:\n",
    "\n",
    "    def draw_rect(self):\n",
    "        turtle.fd(100)\n",
    "        \n",
    "    def draw_triangle(self, side):\n",
    "        pass\n",
    "\n",
    "    def draw_circle(self, radius):\n",
    "        pass"
   ]
  },
  {
   "cell_type": "code",
   "execution_count": 5,
   "metadata": {},
   "outputs": [],
   "source": [
    "d = Drawer()\n",
    "d.draw_rect()"
   ]
  },
  {
   "cell_type": "code",
   "execution_count": null,
   "metadata": {},
   "outputs": [],
   "source": []
  }
 ],
 "metadata": {
  "kernelspec": {
   "display_name": "Python 3",
   "language": "python",
   "name": "python3"
  },
  "language_info": {
   "codemirror_mode": {
    "name": "ipython",
    "version": 3
   },
   "file_extension": ".py",
   "mimetype": "text/x-python",
   "name": "python",
   "nbconvert_exporter": "python",
   "pygments_lexer": "ipython3",
   "version": "3.6.5"
  }
 },
 "nbformat": 4,
 "nbformat_minor": 2
}
