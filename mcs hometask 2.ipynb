{
 "cells": [
  {
   "cell_type": "code",
   "execution_count": 1,
   "metadata": {},
   "outputs": [],
   "source": [
    "def module(x):\n",
    "    if x < 0:\n",
    "        return x * (-1)\n",
    "    else: \n",
    "        return x"
   ]
  },
  {
   "cell_type": "code",
   "execution_count": 2,
   "metadata": {},
   "outputs": [
    {
     "name": "stdout",
     "output_type": "stream",
     "text": [
      "1 задание сделано верно\n"
     ]
    }
   ],
   "source": [
    "assert(module(-20) == 20)\n",
    "assert(module(-40) == 40)\n",
    "assert(module(34) == 34)\n",
    "assert(module(-41) == 41)\n",
    "assert(module(24) == 24)\n",
    "assert(module(4) == 4)\n",
    "assert(module(-9) == 9)\n",
    "assert(module(35) == 35)\n",
    "assert(module(43) == 43)\n",
    "assert(module(6) == 6)\n",
    "print(\"1 задание сделано верно\")"
   ]
  },
  {
   "cell_type": "code",
   "execution_count": 5,
   "metadata": {},
   "outputs": [],
   "source": [
    "def near(a, b):\n",
    "    if a - b <= 10 and b - a <= 10:\n",
    "        return True\n",
    "    else:\n",
    "        return False"
   ]
  },
  {
   "cell_type": "code",
   "execution_count": 6,
   "metadata": {},
   "outputs": [
    {
     "name": "stdout",
     "output_type": "stream",
     "text": [
      "2 задание сделано верно\n"
     ]
    }
   ],
   "source": [
    "assert(near(35, -45) == False)\n",
    "assert(near(-18, 28) == False)\n",
    "assert(near(40, -19) == False)\n",
    "assert(near(-38, -36) == True)\n",
    "assert(near(22, 1) == False)\n",
    "assert(near(41, -40) == False)\n",
    "assert(near(43, -30) == False)\n",
    "assert(near(-30, -48) == False)\n",
    "assert(near(-16, -6) == True)\n",
    "assert(near(17, -21) == False)\n",
    "print(\"2 задание сделано верно\")"
   ]
  },
  {
   "cell_type": "code",
   "execution_count": null,
   "metadata": {},
   "outputs": [],
   "source": []
  }
 ],
 "metadata": {
  "kernelspec": {
   "display_name": "Python 3",
   "language": "python",
   "name": "python3"
  },
  "language_info": {
   "codemirror_mode": {
    "name": "ipython",
    "version": 3
   },
   "file_extension": ".py",
   "mimetype": "text/x-python",
   "name": "python",
   "nbconvert_exporter": "python",
   "pygments_lexer": "ipython3",
   "version": "3.6.5"
  }
 },
 "nbformat": 4,
 "nbformat_minor": 2
}
