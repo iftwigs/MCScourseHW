{
 "cells": [
  {
   "cell_type": "code",
   "execution_count": 11,
   "metadata": {},
   "outputs": [
    {
     "name": "stdout",
     "output_type": "stream",
     "text": [
      "Cupertino\n",
      "The weather in the city of Cupertino is 21\n"
     ]
    }
   ],
   "source": [
    "import requests\n",
    "\n",
    "def temp(city_name):\n",
    "    response = requests.get(\"http://api.openweathermap.org/data/2.5/weather?q={}&APPID=00c9243d5b8cac9388e64ef2de7770f8\".format(city_name))\n",
    "    d = response.json()\n",
    "    return int(d['main']['temp']) - 273\n",
    "    print(d)\n",
    "\n",
    "\n",
    "q = input()\n",
    "t = temp(q)\n",
    "print('The weather in the city of {} is {}'.format(q, t))\n"
   ]
  },
  {
   "cell_type": "code",
   "execution_count": 30,
   "metadata": {},
   "outputs": [
    {
     "name": "stdout",
     "output_type": "stream",
     "text": [
      "dict_keys(['id', 'name', 'symbol', 'rank', 'price_usd', 'price_btc', '24h_volume_usd', 'market_cap_usd', 'available_supply', 'total_supply', 'max_supply', 'percent_change_1h', 'percent_change_24h', 'percent_change_7d', 'last_updated', 'price_rub', '24h_volume_rub', 'market_cap_rub'])\n",
      "\n"
     ]
    }
   ],
   "source": [
    "import requests\n",
    "data = requests.get('https://api.coinmarketcap.com/v1/ticker/?convert=RUB').json()\n",
    "#print(type(data))\n",
    "#print(type(data[0]))\n",
    "print(data[0].keys())\n",
    "print()"
   ]
  },
  {
   "cell_type": "code",
   "execution_count": 42,
   "metadata": {},
   "outputs": [
    {
     "name": "stdout",
     "output_type": "stream",
     "text": [
      "Bitcoin 433426.603588\n",
      "Ethereum 14407.3826887\n",
      "XRP 35.3094225878\n",
      "Bitcoin Cash 40615.4414045\n",
      "EOS 375.196724994\n",
      "Stellar 17.1638935222\n",
      "Litecoin 3585.58891596\n",
      "Cardano 5.2291908954\n",
      "Monero 7347.03451271\n",
      "Tether 66.0316657498\n",
      "TRON 1.5867270482\n",
      "Dash 11060.5801658\n",
      "IOTA 33.2920308462\n",
      "Binance Coin 651.296314504\n",
      "NEO 1113.67986656\n",
      "Ethereum Classic 637.706601546\n",
      "NEM 6.4189886985\n",
      "Tezos 88.3137214246\n",
      "Zcash 8580.852806\n",
      "VeChain 0.7178969332\n",
      "Bitcoin Gold 2091.97855503\n",
      "Maker 44810.0972353\n",
      "OmiseGO 227.973902352\n",
      "Dogecoin 0.2418093024\n",
      "0x 50.0419402664\n",
      "Qtum 271.520204453\n",
      "Decred 2711.58357232\n",
      "Ontology 111.536033288\n",
      "Basic Attention Token 22.1932945629\n",
      "Lisk 192.375907272\n",
      "Aeternity 86.2350583124\n",
      "Zilliqa 2.3143048823\n",
      "Bitcoin Diamond 116.896623183\n",
      "BitShares 6.5744288343\n",
      "Nano 128.875692499\n",
      "Bytecoin 0.0918238283\n",
      "ICON 42.8335596677\n",
      "Siacoin 0.4259538334\n",
      "DigiByte 1.412017416\n",
      "Steem 54.2339364375\n",
      "Pundi X 0.1015031142\n",
      "Verge 0.9177883226\n",
      "Bytom 13.1568826829\n",
      "Aurora 1.8756110527\n",
      "Waves 121.680627457\n",
      "Metaverse ETP 211.212269723\n",
      "Chainlink 32.2761125372\n",
      "Augur 984.58474988\n",
      "Golem 11.1741374824\n",
      "TrueUSD 66.4093016503\n",
      "Stratis 105.828849878\n",
      "Holo 0.0723640115\n",
      "Electroneum 1.1474159225\n",
      "Komodo 82.1340522397\n",
      "Paxos Standard Token 66.1714470067\n",
      "USD Coin 66.6179980119\n",
      "Status 2.5278893609\n",
      "Populous 232.510014589\n",
      "Waltonchain 206.767864587\n",
      "Cryptonex 133.596172163\n",
      "Wanchain 69.3729868909\n",
      "MaidSafeCoin 16.1637741253\n",
      "Ardor 7.0251129653\n",
      "IOST 0.816140045\n",
      "Mithril 17.4533146951\n",
      "KuCoin Shares 74.0422855261\n",
      "Aion 27.4051140757\n",
      "Ravencoin 2.8725250669\n",
      "Nexo 11.0277316878\n",
      "Bancor 92.7286643291\n",
      "WAX 6.4034766273\n",
      "Loopring 7.5436671238\n",
      "GXChain 91.794047299\n",
      "DigixDAO 2745.98426279\n",
      "Decentraland 5.1790132365\n",
      "Ark 50.7491740371\n",
      "aelf 21.5260033821\n",
      "HyperCash 122.075959704\n",
      "Huobi Token 105.460609293\n",
      "ReddCoin 0.1818882857\n",
      "Horizen 1018.58137443\n",
      "Polymath 18.1624463308\n",
      "Veritaseum 2541.08417439\n",
      "PIVX 90.3960201107\n",
      "MonaCoin 78.7680049438\n",
      "QASH 14.1942517957\n",
      "Dentacoin 0.014417925\n",
      "CyberMiles 6.1301300346\n",
      "Dai 66.3408394309\n",
      "MOAC 73.9581422602\n",
      "Crypto.com 291.455416784\n",
      "Loom Network 7.6136642522\n",
      "Mixin 10075.3007964\n",
      "Nxt 4.4740125278\n",
      "FunFair 0.8593084762\n",
      "Nebulas 96.8524316798\n",
      "Theta Token 6.1277847256\n",
      "Revain 12.7027087332\n",
      "ETERNAL TOKEN 70.2333459208\n",
      "Dropil 0.1903010537\n"
     ]
    }
   ],
   "source": [
    "def print_all():\n",
    "    for n in range(len(data)):\n",
    "        print(data[n]['name'] + ' ' + data[n]['price_rub'])\n",
    "        \n",
    "print_all()"
   ]
  },
  {
   "cell_type": "code",
   "execution_count": 54,
   "metadata": {},
   "outputs": [
    {
     "name": "stdout",
     "output_type": "stream",
     "text": [
      "Bitcoin 1.4%\n",
      "Ethereum 0.72%\n",
      "XRP -0.58%\n",
      "Bitcoin Cash 0.81%\n",
      "EOS 0.09%\n",
      "Stellar -1.06%\n",
      "Litecoin -1.3%\n",
      "Cardano -0.81%\n",
      "Monero -1.18%\n",
      "Tether 0.23%\n",
      "TRON -1.36%\n",
      "Dash -1.35%\n",
      "IOTA -0.86%\n",
      "Binance Coin 1.19%\n",
      "NEO -0.08%\n",
      "Ethereum Classic -1.18%\n",
      "NEM 0.81%\n",
      "Tezos 0.15%\n",
      "Zcash 0.36%\n",
      "VeChain -2.2%\n",
      "Bitcoin Gold 1.51%\n",
      "Maker 1.05%\n",
      "OmiseGO -1.58%\n",
      "Dogecoin -1.44%\n",
      "0x -0.34%\n",
      "Qtum 3.4%\n",
      "Decred 1.01%\n",
      "Ontology -0.99%\n",
      "Basic Attention Token 7.44%\n",
      "Lisk 1.95%\n",
      "Aeternity -0.14%\n",
      "Zilliqa -2.34%\n",
      "Bitcoin Diamond 1.48%\n",
      "BitShares 1.37%\n",
      "Nano -0.63%\n",
      "Bytecoin 2.64%\n",
      "ICON 0.28%\n",
      "Siacoin 1.46%\n",
      "DigiByte 0.03%\n",
      "Steem 3.88%\n",
      "Pundi X -3.0%\n",
      "Verge 0.99%\n",
      "Bytom 2.88%\n",
      "Aurora 3.23%\n",
      "Waves 0.68%\n",
      "Metaverse ETP 2.74%\n",
      "Chainlink -0.05%\n",
      "Augur 1.23%\n",
      "Golem 3.26%\n",
      "TrueUSD 0.15%\n",
      "Stratis 4.2%\n",
      "Holo 2.32%\n",
      "Electroneum -4.6%\n",
      "Komodo 0.16%\n",
      "Paxos Standard Token -0.08%\n",
      "USD Coin 0.32%\n",
      "Status 1.21%\n",
      "Populous 1.73%\n",
      "Waltonchain 0.31%\n",
      "Cryptonex 1.02%\n",
      "Wanchain 2.49%\n",
      "MaidSafeCoin 5.52%\n",
      "Ardor -0.98%\n",
      "IOST -1.11%\n",
      "Mithril 2.66%\n",
      "KuCoin Shares -0.73%\n",
      "Aion 2.23%\n",
      "Ravencoin 1.66%\n",
      "Nexo -1.7%\n",
      "Bancor 0.4%\n",
      "WAX 1.79%\n",
      "Loopring 4.74%\n",
      "GXChain 1.91%\n",
      "DigixDAO 2.21%\n",
      "Decentraland 0.09%\n",
      "Ark 0.25%\n",
      "aelf 2.67%\n",
      "HyperCash 0.12%\n",
      "Huobi Token 0.41%\n",
      "ReddCoin 1.69%\n",
      "Horizen 4.59%\n",
      "Polymath 5.32%\n",
      "Veritaseum -0.46%\n",
      "PIVX 2.29%\n",
      "MonaCoin 0.42%\n",
      "QASH 0.37%\n",
      "Dentacoin 1.03%\n",
      "CyberMiles 3.96%\n",
      "Dai 0.79%\n",
      "MOAC -0.08%\n",
      "Crypto.com 0.28%\n",
      "Loom Network 3.72%\n",
      "Mixin 11.9%\n",
      "Nxt 5.21%\n",
      "FunFair -1.98%\n",
      "Nebulas 0.39%\n",
      "Theta Token 1.0%\n",
      "Revain 4.99%\n",
      "ETERNAL TOKEN 8.53%\n",
      "Dropil -3.02%\n"
     ]
    }
   ],
   "source": [
    "def print_changes():\n",
    "    for n in range(len(data)):\n",
    "        print(data[n]['name'] + ' ' + data[n]['percent_change_24h'] + '%')\n",
    "        \n",
    "print_changes()"
   ]
  },
  {
   "cell_type": "code",
   "execution_count": 43,
   "metadata": {},
   "outputs": [
    {
     "name": "stdout",
     "output_type": "stream",
     "text": [
      "dict_keys(['id', 'name', 'symbol', 'rank', 'price_usd', 'price_btc', '24h_volume_usd', 'market_cap_usd', 'available_supply', 'total_supply', 'max_supply', 'percent_change_1h', 'percent_change_24h', 'percent_change_7d', 'last_updated', 'price_rub', '24h_volume_rub', 'market_cap_rub'])\n"
     ]
    }
   ],
   "source": [
    "print(data[0].keys())"
   ]
  },
  {
   "cell_type": "code",
   "execution_count": 78,
   "metadata": {},
   "outputs": [
    {
     "name": "stdout",
     "output_type": "stream",
     "text": [
      "5932.748713550836\n"
     ]
    }
   ],
   "source": [
    "def average_price():\n",
    "    n = 0\n",
    "    array = []\n",
    "    while n in range(len(data)):\n",
    "        array.append(float(data[n]['price_rub']))\n",
    "        n += 1\n",
    "    print(sum(array) / len(data))\n",
    "\n",
    "average_price()"
   ]
  },
  {
   "cell_type": "code",
   "execution_count": null,
   "metadata": {},
   "outputs": [],
   "source": []
  }
 ],
 "metadata": {
  "kernelspec": {
   "display_name": "Python 3",
   "language": "python",
   "name": "python3"
  },
  "language_info": {
   "codemirror_mode": {
    "name": "ipython",
    "version": 3
   },
   "file_extension": ".py",
   "mimetype": "text/x-python",
   "name": "python",
   "nbconvert_exporter": "python",
   "pygments_lexer": "ipython3",
   "version": "3.6.5"
  }
 },
 "nbformat": 4,
 "nbformat_minor": 2
}
