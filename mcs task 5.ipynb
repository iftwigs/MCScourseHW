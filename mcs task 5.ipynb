{
 "cells": [
  {
   "cell_type": "code",
   "execution_count": 2,
   "metadata": {},
   "outputs": [],
   "source": [
    "import database\n",
    "\n",
    "database.set_value(42, \"key\")\n",
    "database.set_value(43, \"key\")\n",
    "assert(database.get_value(\"key\") == 43)\n",
    "assert(database.get_value(\"key2\") == None)\n",
    "database.set_value({\"a\": \"b\"}, \"key3\")\n",
    "assert(database.get_value(\"key3\")[\"a\"] == \"b\")"
   ]
  }
 ],
 "metadata": {
  "kernelspec": {
   "display_name": "Python 3",
   "language": "python",
   "name": "python3"
  },
  "language_info": {
   "codemirror_mode": {
    "name": "ipython",
    "version": 3
   },
   "file_extension": ".py",
   "mimetype": "text/x-python",
   "name": "python",
   "nbconvert_exporter": "python",
   "pygments_lexer": "ipython3",
   "version": "3.6.5"
  }
 },
 "nbformat": 4,
 "nbformat_minor": 2
}
