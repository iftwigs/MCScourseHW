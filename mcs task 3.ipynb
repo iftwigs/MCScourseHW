{
 "cells": [
  {
   "cell_type": "code",
   "execution_count": 3,
   "metadata": {},
   "outputs": [],
   "source": [
    "ivan = {\n",
    "    \"firstName\": \"Иван\",\n",
    "    \"lastName\": \"Иванов\",\n",
    "    \"address\": {\n",
    "        \"streetAddress\": \"Московское ш., 101, кв.101\",\n",
    "        \"city\": \"Ленинград\",\n",
    "        \"postalCode\": 101101\n",
    "    },\n",
    "    \"phoneNumbers\": [\n",
    "        \"812 123-1234\",\n",
    "        \"916 123-4567\"\n",
    "    ]\n",
    "}\n",
    "\n",
    "def ivans_postal_code():\n",
    "    return ivan[\"address\"][\"postalCode\"]"
   ]
  },
  {
   "cell_type": "code",
   "execution_count": 4,
   "metadata": {},
   "outputs": [
    {
     "name": "stdout",
     "output_type": "stream",
     "text": [
      "1 задание сделано верно\n"
     ]
    }
   ],
   "source": [
    "assert(ivans_postal_code() == 101101)\n",
    "print(\"1 задание сделано верно\")"
   ]
  },
  {
   "cell_type": "code",
   "execution_count": 5,
   "metadata": {},
   "outputs": [],
   "source": [
    "def ivans_second_telephone_number():\n",
    "    return ivan[\"phoneNumbers\"][1]"
   ]
  },
  {
   "cell_type": "code",
   "execution_count": 6,
   "metadata": {},
   "outputs": [
    {
     "name": "stdout",
     "output_type": "stream",
     "text": [
      "2 задание сделано верно\n"
     ]
    }
   ],
   "source": [
    "assert(ivans_second_telephone_number() == \"916 123-4567\")\n",
    "print(\"2 задание сделано верно\")"
   ]
  },
  {
   "cell_type": "code",
   "execution_count": 11,
   "metadata": {},
   "outputs": [],
   "source": [
    "def first_n_numbers(n):\n",
    "    array = []\n",
    "    i = 0\n",
    "    while i < n:\n",
    "        i += 1\n",
    "        array.append(i)\n",
    "    return array"
   ]
  },
  {
   "cell_type": "code",
   "execution_count": 12,
   "metadata": {},
   "outputs": [
    {
     "name": "stdout",
     "output_type": "stream",
     "text": [
      "3 задание сделано верно\n"
     ]
    }
   ],
   "source": [
    "assert(first_n_numbers(6) == [1, 2, 3, 4, 5, 6])\n",
    "assert(first_n_numbers(40) == [1, 2, 3, 4, 5, 6, 7, 8, 9, 10, 11, 12, 13, 14, 15, 16, 17, 18, 19, 20, 21, 22, 23, 24, 25, 26, 27, 28, 29, 30, 31, 32, 33, 34, 35, 36, 37, 38, 39, 40])\n",
    "assert(first_n_numbers(17) == [1, 2, 3, 4, 5, 6, 7, 8, 9, 10, 11, 12, 13, 14, 15, 16, 17])\n",
    "assert(first_n_numbers(24) == [1, 2, 3, 4, 5, 6, 7, 8, 9, 10, 11, 12, 13, 14, 15, 16, 17, 18, 19, 20, 21, 22, 23, 24])\n",
    "assert(first_n_numbers(41) == [1, 2, 3, 4, 5, 6, 7, 8, 9, 10, 11, 12, 13, 14, 15, 16, 17, 18, 19, 20, 21, 22, 23, 24, 25, 26, 27, 28, 29, 30, 31, 32, 33, 34, 35, 36, 37, 38, 39, 40, 41])\n",
    "assert(first_n_numbers(23) == [1, 2, 3, 4, 5, 6, 7, 8, 9, 10, 11, 12, 13, 14, 15, 16, 17, 18, 19, 20, 21, 22, 23])\n",
    "assert(first_n_numbers(20) == [1, 2, 3, 4, 5, 6, 7, 8, 9, 10, 11, 12, 13, 14, 15, 16, 17, 18, 19, 20])\n",
    "assert(first_n_numbers(1) == [1])\n",
    "assert(first_n_numbers(34) == [1, 2, 3, 4, 5, 6, 7, 8, 9, 10, 11, 12, 13, 14, 15, 16, 17, 18, 19, 20, 21, 22, 23, 24, 25, 26, 27, 28, 29, 30, 31, 32, 33, 34])\n",
    "assert(first_n_numbers(41) == [1, 2, 3, 4, 5, 6, 7, 8, 9, 10, 11, 12, 13, 14, 15, 16, 17, 18, 19, 20, 21, 22, 23, 24, 25, 26, 27, 28, 29, 30, 31, 32, 33, 34, 35, 36, 37, 38, 39, 40, 41])\n",
    "print(\"3 задание сделано верно\")"
   ]
  },
  {
   "cell_type": "code",
   "execution_count": 23,
   "metadata": {},
   "outputs": [
    {
     "data": {
      "text/plain": [
       "[1,\n",
       " 1,\n",
       " 2,\n",
       " 3,\n",
       " 5,\n",
       " 8,\n",
       " 13,\n",
       " 21,\n",
       " 34,\n",
       " 55,\n",
       " 89,\n",
       " 144,\n",
       " 233,\n",
       " 377,\n",
       " 610,\n",
       " 987,\n",
       " 1597,\n",
       " 2584,\n",
       " 4181,\n",
       " 6765]"
      ]
     },
     "execution_count": 23,
     "metadata": {},
     "output_type": "execute_result"
    }
   ],
   "source": [
    "def fib20():\n",
    "    array = []\n",
    "    i = 0\n",
    "    first = 1\n",
    "    second = 1\n",
    "    array.append(first)\n",
    "    array.append(second)\n",
    "    while i < 18:\n",
    "        i += 1\n",
    "        f = first\n",
    "        first = second\n",
    "        second = first + f\n",
    "        array.append(second)\n",
    "    return array\n",
    "\n",
    "fib20()"
   ]
  },
  {
   "cell_type": "code",
   "execution_count": 24,
   "metadata": {},
   "outputs": [
    {
     "name": "stdout",
     "output_type": "stream",
     "text": [
      "4 задание сделано верно. Молодец!\n"
     ]
    }
   ],
   "source": [
    "assert(fib20() == [1, 1, 2, 3, 5, 8, 13, 21, 34, 55, 89, 144, 233, 377, 610, 987, 1597, 2584, 4181, 6765])\n",
    "print(\"4 задание сделано верно. Молодец!\")"
   ]
  },
  {
   "cell_type": "code",
   "execution_count": null,
   "metadata": {},
   "outputs": [],
   "source": []
  }
 ],
 "metadata": {
  "kernelspec": {
   "display_name": "Python 3",
   "language": "python",
   "name": "python3"
  },
  "language_info": {
   "codemirror_mode": {
    "name": "ipython",
    "version": 3
   },
   "file_extension": ".py",
   "mimetype": "text/x-python",
   "name": "python",
   "nbconvert_exporter": "python",
   "pygments_lexer": "ipython3",
   "version": "3.6.5"
  }
 },
 "nbformat": 4,
 "nbformat_minor": 2
}
