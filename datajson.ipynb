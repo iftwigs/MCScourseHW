{
 "cells": [
  {
   "cell_type": "code",
   "execution_count": 71,
   "metadata": {},
   "outputs": [],
   "source": [
    "import json\n",
    "try:\n",
    "    with open(\"data.json\", \"r\") as f:\n",
    "        data = json.load(f)\n",
    "except:\n",
    "    for i in range(20):\n",
    "        print(\"Не хватает файла с данными. (data.json)\")\n",
    "    assert(False)"
   ]
  },
  {
   "cell_type": "code",
   "execution_count": 72,
   "metadata": {},
   "outputs": [
    {
     "name": "stdout",
     "output_type": "stream",
     "text": [
      "<class 'list'>\n",
      "1000\n",
      "<class 'dict'>\n",
      "{'money': 21000, 'car': 'BMW', 'age': 21, 'name': 'Mark', 'last_name': 'Johnson'}\n",
      "dict_keys(['money', 'car', 'age', 'name', 'last_name'])\n",
      "___________\n"
     ]
    }
   ],
   "source": [
    "print(type(data))\n",
    "print(len(data))\n",
    "print(type(data[0]))\n",
    "print(data[0])\n",
    "print(data[0].keys())\n",
    "print(\"___________\")"
   ]
  },
  {
   "cell_type": "code",
   "execution_count": 73,
   "metadata": {},
   "outputs": [],
   "source": [
    "av_sal = []\n",
    "\n",
    "#print(data[0]['money'])\n",
    "\n",
    "def average_salary(data):\n",
    "    for i in range(len(data)):\n",
    "        av_sal.append(data[i]['money'])\n",
    "    gross = sum(av_sal)\n",
    "    return gross / len(data)"
   ]
  },
  {
   "cell_type": "code",
   "execution_count": 74,
   "metadata": {},
   "outputs": [
    {
     "name": "stdout",
     "output_type": "stream",
     "text": [
      "1 задание выполнено верно.\n"
     ]
    }
   ],
   "source": [
    "assert(average_salary(data) == 45018)\n",
    "print(\"1 задание выполнено верно.\")"
   ]
  },
  {
   "cell_type": "code",
   "execution_count": 75,
   "metadata": {},
   "outputs": [],
   "source": [
    "d = {}\n",
    "\n",
    "def common_name(data):\n",
    "    for person in data:\n",
    "        key = person['name']\n",
    "        if key in d:\n",
    "            d[key] += 1\n",
    "        else:\n",
    "            d[key] = 1\n",
    "    cur_max = 0\n",
    "    for key in d:\n",
    "        if d[key] > cur_max:\n",
    "            cur_max = d[key]\n",
    "            cur_max_key = key  \n",
    "    return cur_max_key"
   ]
  },
  {
   "cell_type": "code",
   "execution_count": 76,
   "metadata": {},
   "outputs": [
    {
     "name": "stdout",
     "output_type": "stream",
     "text": [
      "2 задание выполнено верно.\n"
     ]
    }
   ],
   "source": [
    "assert(common_name(data) == \"John\")\n",
    "print(\"2 задание выполнено верно.\")"
   ]
  },
  {
   "cell_type": "code",
   "execution_count": 87,
   "metadata": {},
   "outputs": [],
   "source": [
    "def average_age(data):\n",
    "    array = []\n",
    "    for person in data:\n",
    "        key = person['age']\n",
    "        array.append(key) \n",
    "    all_ages = sum(array)\n",
    "    #av_age = all_ages / 1000\n",
    "    return all_ages / 1000\n",
    "\n",
    "#average_age(data)\n"
   ]
  },
  {
   "cell_type": "code",
   "execution_count": 88,
   "metadata": {},
   "outputs": [
    {
     "name": "stdout",
     "output_type": "stream",
     "text": [
      "3 задание выполнено верно.\n"
     ]
    }
   ],
   "source": [
    "assert(average_age(data) >= 38 and average_age(data) <= 39)\n",
    "print(\"3 задание выполнено верно.\")"
   ]
  },
  {
   "cell_type": "code",
   "execution_count": 81,
   "metadata": {},
   "outputs": [],
   "source": [
    "d = {}\n",
    "\n",
    "def kia_percent(data):\n",
    "    for person in data:\n",
    "        key = person['car']\n",
    "        if key in d:\n",
    "            d[key] += 1\n",
    "        else:\n",
    "            d[key] = 1\n",
    "    kia = d['Kia']\n",
    "    return round(kia / 1000 * 100)\n"
   ]
  },
  {
   "cell_type": "code",
   "execution_count": 82,
   "metadata": {},
   "outputs": [
    {
     "name": "stdout",
     "output_type": "stream",
     "text": [
      "4 задание выполнено верно. Молодец!\n"
     ]
    }
   ],
   "source": [
    "assert(kia_percent(data) == 36)\n",
    "print(\"4 задание выполнено верно. Молодец!\")"
   ]
  },
  {
   "cell_type": "code",
   "execution_count": null,
   "metadata": {},
   "outputs": [],
   "source": []
  }
 ],
 "metadata": {
  "kernelspec": {
   "display_name": "Python 3",
   "language": "python",
   "name": "python3"
  },
  "language_info": {
   "codemirror_mode": {
    "name": "ipython",
    "version": 3
   },
   "file_extension": ".py",
   "mimetype": "text/x-python",
   "name": "python",
   "nbconvert_exporter": "python",
   "pygments_lexer": "ipython3",
   "version": "3.6.5"
  }
 },
 "nbformat": 4,
 "nbformat_minor": 2
}
